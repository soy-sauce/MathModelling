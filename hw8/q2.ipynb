{
 "cells": [
  {
   "cell_type": "markdown",
   "metadata": {},
   "source": [
    "HW8 Question 2\n",
    "\n",
    "$$\n",
    "\\begin{align*}\n",
    "\\dot{x} &= \\sigma (-x + y)\\\\\n",
    "\\dot{y} &= rx - y - xz \\\\\n",
    "\\dot{z} &= xy - bz\n",
    "\\end{align*}\n",
    "$$"
   ]
  },
  {
   "cell_type": "code",
   "execution_count": 5,
   "metadata": {},
   "outputs": [],
   "source": [
    "import numpy as np\n",
    "import matplotlib.pyplot as plt\n",
    "from scipy.integrate import odeint\n",
    "from mpl_toolkits.mplot3d import Axes3D\n"
   ]
  },
  {
   "cell_type": "code",
   "execution_count": 6,
   "metadata": {},
   "outputs": [],
   "source": [
    "def r(sigma,beta):\n",
    "    result=sigma+beta+3\n",
    "    result=result/(sigma-beta-1)\n",
    "    result=sigma*result\n",
    "    return result"
   ]
  },
  {
   "cell_type": "code",
   "execution_count": 7,
   "metadata": {},
   "outputs": [],
   "source": [
    "def fpeigs(sigma, b, r):\n",
    "    # Compute eigenvalues for the two FPs X2, X3 (not the FP at the origin) for L63\n",
    "    a0 = sigma+b+1\n",
    "    a1 = b*(r+sigma)\n",
    "    a2 = 2*sigma*b*(r-1)\n",
    "    coef = [1, a0, a1, a2]\n",
    "    \n",
    "    return np.roots(coef)"
   ]
  },
  {
   "cell_type": "code",
   "execution_count": 8,
   "metadata": {},
   "outputs": [],
   "source": [
    "def rc(sigma, b):\n",
    "    # critical r_c.  r > r_c is chaotic\n",
    "    return sigma*((sigma+b+3)/(sigma-b-1))"
   ]
  },
  {
   "cell_type": "code",
   "execution_count": 13,
   "metadata": {},
   "outputs": [
    {
     "name": "stdout",
     "output_type": "stream",
     "text": [
      "[-1.36666667e+01+0.j          6.66133815e-16+9.62453006j\n",
      "  6.66133815e-16-9.62453006j]\n",
      "24.736842105263154\n"
     ]
    }
   ],
   "source": [
    "eigenvals=fpeigs(10,8/3,rc(10,8/3) )\n",
    "print(eigenvals)\n",
    "print(rc(10,8/3))"
   ]
  },
  {
   "cell_type": "code",
   "execution_count": 47,
   "metadata": {},
   "outputs": [],
   "source": [
    "rvals=np.arange(20,28,0.5)\n",
    "rvalscopy=[]\n",
    "for i in range(0,len(rvals)):\n",
    "    rvalscopy.extend([rvals[i]]*3)\n",
    "\n",
    "real=[]\n",
    "imag=[]\n",
    "sigma=10\n",
    "beta=8/3\n",
    "#for i in eigenvals:\n",
    "#    real.append(i.real)\n",
    "#    imag.append(i.imag)\n",
    "\n",
    "for i in range(0,len(rvals)):\n",
    "    eigenvals=fpeigs(sigma,beta, rvals[i])\n",
    "    real.append(eigenvals[0].real)\n",
    "    real.append(eigenvals[1].real)\n",
    "    real.append(eigenvals[2].real)\n",
    "    imag.append(eigenvals[0].imag)\n",
    "    imag.append(eigenvals[1].imag)\n",
    "    imag.append(eigenvals[2].imag)\n",
    "    \n",
    "\n",
    "#print(len(rvalscopy))\n",
    "#print(rvalscopy)\n",
    "#print(len(real))\n",
    "#print(real)\n",
    "#print(imag)\n",
    "    "
   ]
  },
  {
   "cell_type": "code",
   "execution_count": 48,
   "metadata": {},
   "outputs": [
    {
     "data": {
      "image/png": "[encoded data removed]",
      "text/plain": [
       "<Figure size 432x288 with 1 Axes>"
      ]
     },
     "metadata": {},
     "output_type": "display_data"
    }
   ],
   "source": [
    "#fig=plt.figure()\n",
    "#ax=fig.add_axes([0,0,1,1])\n",
    "plt.scatter(rvalscopy,real, label=\"real parts\", c='red', alpha=0.5)\n",
    "plt.scatter(rvalscopy,imag, label=\"imaginary parts\", c='blue', alpha=0.5)\n",
    "plt.xlabel(\"r\")\n",
    "#plt.legend()\n",
    "plt.show()\n"
   ]
  },
  {
   "cell_type": "markdown",
   "metadata": {},
   "source": [
    "There is a bifurcation at $$r=\\sigma(\\frac{\\sigma+\\beta+3}{\\sigma-\\beta-1}) $$\n",
    "\n",
    "We can see this since as we approach that point which is roughly 24. At this point the imaginary parts of two of the fixed points approach 0 and become positive. "
   ]
  },
  {
   "cell_type": "code",
   "execution_count": null,
   "metadata": {},
   "outputs": [],
   "source": []
  }
 ],
 "metadata": {
  "kernelspec": {
   "display_name": "Python 3",
   "language": "python",
   "name": "python3"
  },
  "language_info": {
   "codemirror_mode": {
    "name": "ipython",
    "version": 3
   },
   "file_extension": ".py",
   "mimetype": "text/x-python",
   "name": "python",
   "nbconvert_exporter": "python",
   "pygments_lexer": "ipython3",
   "version": "3.6.3"
  }
 },
 "nbformat": 4,
 "nbformat_minor": 2
}
