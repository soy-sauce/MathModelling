{
 "cells": [
  {
   "cell_type": "markdown",
   "metadata": {},
   "source": [
    "HW 8 Question 1\n",
    "\n",
    "$$\n",
    "\\ddot{x} + \\mu(x^2-1)x + x = 0, \\quad x(0) = x_0, \\quad \\dot{x}(0) = v_0\n",
    "$$\n",
    "\n",
    "$$\n",
    "\\lambda = \\frac{1}{2}(\\mu +- \\sqrt{{\\mu^{2}}-4})\n",
    "$$"
   ]
  },
  {
   "cell_type": "code",
   "execution_count": 21,
   "metadata": {},
   "outputs": [],
   "source": [
    "import numpy as np\n",
    "from matplotlib import pyplot as plt\n",
    "import cmath"
   ]
  },
  {
   "cell_type": "code",
   "execution_count": 33,
   "metadata": {},
   "outputs": [],
   "source": [
    "def getLambda(mu):\n",
    "    result=(mu**2)-4\n",
    "    result=(cmath.sqrt(result))\n",
    "    result=mu+(result*-1)\n",
    "    result=result/2\n",
    "    return result"
   ]
  },
  {
   "cell_type": "code",
   "execution_count": 34,
   "metadata": {},
   "outputs": [],
   "source": [
    "x=[-5,-4,-3,-2,-1,0,1,2,3,4,5]\n",
    "val=[]\n",
    "yreal=[]\n",
    "yimag=[]\n",
    "for i in x:\n",
    "    res=getLambda(i)\n",
    "    val.append(res)\n",
    "    yreal.append(res.real)\n",
    "    yimag.append(res.imag)\n",
    "    #y.append(getLambda(i))\n",
    "    \n",
    "\n",
    "    "
   ]
  },
  {
   "cell_type": "code",
   "execution_count": 40,
   "metadata": {
    "scrolled": true
   },
   "outputs": [
    {
     "name": "stdout",
     "output_type": "stream",
     "text": [
      "[(-4.7912878474779195+0j), (-3.732050807568877+0j), (-2.618033988749895+0j), (-1+0j), (-0.5-0.8660254037844386j), -1j, (0.5-0.8660254037844386j), (1+0j), (0.3819660112501051+0j), (0.2679491924311228+0j), (0.20871215252208009+0j)]\n"
     ]
    },
    {
     "data": {
      "image/png": "[encoded data removed]",
      "text/plain": [
       "<Figure size 432x288 with 1 Axes>"
      ]
     },
     "metadata": {},
     "output_type": "display_data"
    }
   ],
   "source": [
    "fig=plt.figure()\n",
    "ax=fig.add_axes([0,0,1,1])\n",
    "ax.plot(x,yreal, label=\"real parts\")\n",
    "ax.plot(x,yimag, label=\"imaginary parts\")\n",
    "ax.set_xlabel(\"mu\")\n",
    "ax.set_ylabel(\"lambda\")\n",
    "leg=ax.legend()\n",
    "ax.grid()\n",
    "print(val)\n"
   ]
  },
  {
   "cell_type": "markdown",
   "metadata": {},
   "source": [
    "a) mu<-2 : when mu<-2 we see that there are no imaginary parts of the eigenvalue. As mu increases towards -2, the real part of lambda is negative and increases as mu increases.\n",
    "\n",
    "b) when mu is between -2 and 0 we see that lambda has imaginary parts that get smaller as mu increases. The real part increases and approaches 0\n",
    "\n",
    "when mu is 0, we get that lambda has no real parts with the imaginary part as -1.\n",
    "\n",
    "c) when mu is between 0 and 2 then the real part continues to increase towards 1. The imaginary parts of lambda also begins to increase towards 0 as mu approaches 2. \n",
    "\n",
    "d) when mu is greater than 2 then the real part begins to decrease towards 0. There are no imaginary parts.\n",
    "\n",
    "\n",
    "\n",
    "From this we get an unstable node. We get that there exists a stable limit cycle that is repelled from the FP around the origin with an approximate of aplitude 2. "
   ]
  },
  {
   "cell_type": "code",
   "execution_count": null,
   "metadata": {},
   "outputs": [],
   "source": []
  }
 ],
 "metadata": {
  "kernelspec": {
   "display_name": "Python 3",
   "language": "python",
   "name": "python3"
  },
  "language_info": {
   "codemirror_mode": {
    "name": "ipython",
    "version": 3
   },
   "file_extension": ".py",
   "mimetype": "text/x-python",
   "name": "python",
   "nbconvert_exporter": "python",
   "pygments_lexer": "ipython3",
   "version": "3.6.3"
  }
 },
 "nbformat": 4,
 "nbformat_minor": 2
}
